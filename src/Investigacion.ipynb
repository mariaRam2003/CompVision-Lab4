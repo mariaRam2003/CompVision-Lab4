{
 "cells": [
  {
   "cell_type": "markdown",
   "id": "415a2b43",
   "metadata": {},
   "source": [
    "# Laboratorio #4 U-net\n",
    "----------------------------------------------\n",
    "## Vision por Computadora\n",
    "## Universidad del Valle de Guatemala\n",
    "## 31 de mayo 2025\n",
    "-----------------------------------------------\n",
    "### Integrantes\n",
    "- Maria Marta Ramirez Gil 21342\n",
    "- Gustavo Andres Gonzalez Pineda 21438\n",
    "- Jose Pablo Orellana Orellana 21970\n",
    "- Diego Alberto Leiva 21752\n",
    "------------------------------------------------"
   ]
  },
  {
   "cell_type": "markdown",
   "id": "178cf2a4",
   "metadata": {},
   "source": [
    "## Parte 1 - Investigacion"
   ]
  },
  {
   "cell_type": "markdown",
   "id": "4c5f2b5e",
   "metadata": {},
   "source": [
    "### Filtro Anisotrópico de Perona-Malik\n",
    "El filtro de Perona-Malik es una técnica de difusión anisotrópica utilizada en procesamiento de imágenes para reducir el ruido sin comprometer la nitidez de los bordes. A diferencia de métodos tradicionales como el Gaussian Blur, que aplica una difusión uniforme en toda la imagen, el enfoque de Perona-Malik adapta la difusión según el contenido local, preservando detalles significativos como bordes y líneas.\n",
    "\n",
    "#### Principios Fundamentales\n",
    "Este filtro se basa en una ecuación de difusión no lineal donde el coeficiente de difusión varía espacialmente en función del gradiente de intensidad de la imagen. Esto permite:\n",
    "- Mayor difusión en áreas homogéneas, reduciendo el ruido sin afectar la estructura.\n",
    "- Menor difusión en regiones con bordes pronunciados, evitando el desenfoque de estructuras importantes.\n",
    "\n",
    "##### Aplicaciones en Procesamiento de Imágenes\n",
    "El filtro de Perona-Malik se ha utilizado en diversas áreas, incluyendo:\n",
    "- Restauración de imágenes médicas: Mejora la calidad de imágenes de resonancia magnética y tomografías.\n",
    "- Visión por computadora: Optimiza la detección de bordes en imágenes satelitales y de seguridad.\n",
    "- Compresión de imágenes: Reduce el ruido sin afectar detalles clave, mejorando la eficiencia de almacenamiento.\n"
   ]
  },
  {
   "cell_type": "markdown",
   "id": "b5c826b3",
   "metadata": {},
   "source": [
    "### Referencias\n",
    "- Perona, P., & Malik, J. (1990). Scale-space and edge detection using anisotropic diffusion. IEEE Transactions on Pattern Analysis and Machine Intelligence, 12(7), 629-639. Recuperado de [aqui](https://scispace.com/papers/scale-space-and-edge-detection-using-anisotropic-diffusion-2my7clurjr)\n",
    "- Kaggle. (s.f.). Anisotropic Diffusion Example. Recuperado de [aqui](https://www.kaggle.com/code/kmader/anisotropic-diffusion-example)\n",
    "- Guidotti, P. (2025). Anisotropic Diffusions of Image Processing From Perona-Malik. Recuperado de [aqui](https://www.math.uci.edu/~gpatrick/source/papers/G131.pdf)\n",
    "- Mader, S. (2017). Anisotropic Diffusion Example. Kaggle. Recuperado de [aqui](https://www.kaggle.com/code/kmader/anisotropic-diffusion-example).\n"
   ]
  }
 ],
 "metadata": {
  "language_info": {
   "name": "python"
  }
 },
 "nbformat": 4,
 "nbformat_minor": 5
}
